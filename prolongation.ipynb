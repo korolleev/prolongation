{
 "cells": [
  {
   "cell_type": "markdown",
   "id": "8db4ea3c",
   "metadata": {},
   "source": [
    "# Расчет коэффициентов пролонгации. Техническая реализация"
   ]
  },
  {
   "cell_type": "markdown",
   "id": "8e0542dd",
   "metadata": {},
   "source": [
    "### Шаг 1: Загрузка и предварительная обработка данных"
   ]
  },
  {
   "cell_type": "code",
   "execution_count": 1,
   "id": "180c7298",
   "metadata": {},
   "outputs": [],
   "source": [
    "import pandas as pd\n",
    "import numpy as np\n",
    "from pandas.tseries.offsets import DateOffset"
   ]
  },
  {
   "cell_type": "code",
   "execution_count": 2,
   "id": "3bfe145f",
   "metadata": {},
   "outputs": [],
   "source": [
    "df_prolongations = pd.read_csv('data/prolongations.csv')\n",
    "df_financial = pd.read_csv('data/financial_data.csv')"
   ]
  },
  {
   "cell_type": "markdown",
   "id": "3b1790f7",
   "metadata": {},
   "source": [
    "#### 1.1. Преобразование финансовой таблицы в 'длинный' формат для удобства анализа временных рядов."
   ]
  },
  {
   "cell_type": "code",
   "execution_count": 3,
   "id": "0ea9df2d",
   "metadata": {},
   "outputs": [],
   "source": [
    "id_vars = ['id', 'Причина дубля', 'Account']\n",
    "\n",
    "value_vars = [col for col in df_financial.columns if col not in id_vars]\n",
    "\n",
    "df_financial_long = pd.melt(\n",
    "    df_financial,\n",
    "    id_vars=id_vars,\n",
    "    value_vars=value_vars,\n",
    "    var_name='shipment_month_str', # Новая колонка для названий месяцев\n",
    "    value_name='shipment_amount'   # Новая колонка для сумм отгрузок\n",
    ")"
   ]
  },
  {
   "cell_type": "markdown",
   "id": "111e4813",
   "metadata": {},
   "source": [
    "### Шаг 2: Очистка данных и обработка специальных значений"
   ]
  },
  {
   "cell_type": "markdown",
   "id": "f2247f52",
   "metadata": {},
   "source": [
    "#### 2.1. Исключение досрочно остановленных проектов и обработка текстовых значений."
   ]
  },
  {
   "cell_type": "code",
   "execution_count": 4,
   "id": "9acdb76e",
   "metadata": {},
   "outputs": [],
   "source": [
    "\n",
    "df_financial_long['shipment_amount'] = df_financial_long['shipment_amount'].replace('в ноль', -1)\n",
    "\n",
    "df_financial_long['shipment_amount'] = df_financial_long['shipment_amount'].replace(['стоп', 'end'], np.nan)\n",
    "\n",
    "# Находим уникальные ID всех проектов, у который сумма отгрузок NaN (т.е. мы еще и включаем случаи `стоп`)\n",
    "stopped_projects = df_financial_long[df_financial_long['shipment_amount'].isna()]['id'].unique()\n",
    "\n",
    "# Фильтруем датафрейм, удаляя ВСЕ строки, относящиеся к этим ID\n",
    "df_financial_long = df_financial_long[~df_financial_long['id'].isin(stopped_projects)]"
   ]
  },
  {
   "cell_type": "code",
   "execution_count": 5,
   "id": "2ea41ef5",
   "metadata": {},
   "outputs": [],
   "source": [
    "def clean_value(value):\n",
    "    # Преобразует строковое значение в число (float), очищая от пробелов и заменяя запятую.\n",
    "    if isinstance(value, str):\n",
    "        value = value.replace('\\xa0', '').replace(' ', '').replace(',', '.')\n",
    "    try:\n",
    "        return float(value)\n",
    "    except (ValueError, TypeError):\n",
    "        return 0.0"
   ]
  },
  {
   "cell_type": "code",
   "execution_count": 6,
   "id": "a4e6d67d",
   "metadata": {},
   "outputs": [],
   "source": [
    "df_financial_long['shipment_amount'] = df_financial_long['shipment_amount'].apply(clean_value)"
   ]
  },
  {
   "cell_type": "markdown",
   "id": "1a611b73",
   "metadata": {},
   "source": [
    "#### 2.2. Преобразование дат и обработка значений 'в ноль'."
   ]
  },
  {
   "cell_type": "code",
   "execution_count": 7,
   "id": "dcef5a88",
   "metadata": {},
   "outputs": [],
   "source": [
    "# Преобразуем текстовые даты в формат datetime для обеих таблиц\n",
    "month_map = {'Январь':'01','Февраль':'02','Март':'03','Апрель':'04','Май':'05','Июнь':'06','Июль':'07','Август':'08','Сентябрь':'09','Октябрь':'10','Ноябрь':'11','Декабрь':'12'}\n",
    "date_series = df_financial_long['shipment_month_str'].str.split(' ')\n",
    "df_financial_long['Дата_norm'] = '01-' + date_series.str[0].map(month_map) + '-' + date_series.str[1]\n",
    "df_financial_long['shipment_month_str'] = pd.to_datetime(df_financial_long['Дата_norm'], format='%d-%m-%Y')\n",
    "\n",
    "date_series = df_prolongations['month'].str.split(' ')\n",
    "df_prolongations['Дата_norm'] = '01-' + date_series.str[0].str.capitalize().map(month_map) + '-' + date_series.str[1]\n",
    "df_prolongations['month'] = pd.to_datetime(df_prolongations['Дата_norm'], format='%d-%m-%Y')"
   ]
  },
  {
   "cell_type": "code",
   "execution_count": 8,
   "id": "4fa10096",
   "metadata": {},
   "outputs": [],
   "source": [
    "df_prolongations = df_prolongations.drop(columns=['Дата_norm'])\n",
    "df_financial_long = df_financial_long.drop(columns=['Дата_norm'])"
   ]
  },
  {
   "cell_type": "code",
   "execution_count": 9,
   "id": "6ab9558b",
   "metadata": {},
   "outputs": [
    {
     "name": "stderr",
     "output_type": "stream",
     "text": [
      "C:\\Users\\scarl\\AppData\\Local\\Temp\\ipykernel_20384\\1474639829.py:5: FutureWarning: The 'method' keyword in Series.replace is deprecated and will be removed in a future version.\n",
      "  lambda x: x.replace(-1, method='ffill')\n"
     ]
    }
   ],
   "source": [
    "df_financial_long = df_financial_long.sort_values(by=['id', 'shipment_month_str'])\n",
    "\n",
    "# Заполняем маркеры -1 ('в ноль') предыдущим значением внутри группы каждого проекта\n",
    "df_financial_long['shipment_amount'] = df_financial_long.groupby('id')['shipment_amount'].transform(\n",
    "    lambda x: x.replace(-1, method='ffill')\n",
    ")\n",
    "\n",
    "# Если маркер -1 остался (например, в самом первом месяце проекта), заменяем его на 0\n",
    "df_financial_long['shipment_amount'] = df_financial_long['shipment_amount'].replace(-1, 0)"
   ]
  },
  {
   "cell_type": "markdown",
   "id": "8be3b756",
   "metadata": {},
   "source": [
    "### Шаг 3: Агрегация и финальная подготовка таблицы"
   ]
  },
  {
   "cell_type": "markdown",
   "id": "3489780c",
   "metadata": {},
   "source": [
    "Объединяем данные и суммируем все отгрузки по проекту за месяц, чтобы получить единую, готовую к расчетам таблицу."
   ]
  },
  {
   "cell_type": "code",
   "execution_count": 10,
   "id": "a5e397fc",
   "metadata": {},
   "outputs": [],
   "source": [
    "df_merged = pd.merge(\n",
    "    df_prolongations,\n",
    "    df_financial_long,\n",
    "    on='id',\n",
    "    how='inner'\n",
    ")"
   ]
  },
  {
   "cell_type": "code",
   "execution_count": 11,
   "id": "dbc24fbe",
   "metadata": {},
   "outputs": [],
   "source": [
    "df_clean = df_merged.drop(columns=['Account', 'Причина дубля'])\n",
    "\n",
    "df_agg = df_clean.groupby(['id', 'AM', 'shipment_month_str', 'month'])['shipment_amount'].sum().reset_index()\n",
    "\n",
    "df_cleanest = df_agg.rename(columns={\n",
    "    'id': 'project_id',\n",
    "    'AM': 'account_manager',\n",
    "    'month': 'project_end_month', # Последний месяц реализации проекта\n",
    "    'shipment_month_str': 'shipment_month', # Месяц, за который произведена отгрузка\n",
    "    'shipment_amount': 'shipment_sum' # Сумма отгрузки\n",
    "})"
   ]
  },
  {
   "cell_type": "code",
   "execution_count": 12,
   "id": "f6b10f92",
   "metadata": {},
   "outputs": [
    {
     "data": {
      "text/html": [
       "<div>\n",
       "<style scoped>\n",
       "    .dataframe tbody tr th:only-of-type {\n",
       "        vertical-align: middle;\n",
       "    }\n",
       "\n",
       "    .dataframe tbody tr th {\n",
       "        vertical-align: top;\n",
       "    }\n",
       "\n",
       "    .dataframe thead th {\n",
       "        text-align: right;\n",
       "    }\n",
       "</style>\n",
       "<table border=\"1\" class=\"dataframe\">\n",
       "  <thead>\n",
       "    <tr style=\"text-align: right;\">\n",
       "      <th></th>\n",
       "      <th>project_id</th>\n",
       "      <th>account_manager</th>\n",
       "      <th>shipment_month</th>\n",
       "      <th>project_end_month</th>\n",
       "      <th>shipment_sum</th>\n",
       "    </tr>\n",
       "  </thead>\n",
       "  <tbody>\n",
       "    <tr>\n",
       "      <th>0</th>\n",
       "      <td>190</td>\n",
       "      <td>Васильев Артем Александрович</td>\n",
       "      <td>2022-11-01</td>\n",
       "      <td>2023-02-01</td>\n",
       "      <td>149080.0</td>\n",
       "    </tr>\n",
       "    <tr>\n",
       "      <th>1</th>\n",
       "      <td>190</td>\n",
       "      <td>Васильев Артем Александрович</td>\n",
       "      <td>2022-11-01</td>\n",
       "      <td>2023-12-01</td>\n",
       "      <td>149080.0</td>\n",
       "    </tr>\n",
       "    <tr>\n",
       "      <th>2</th>\n",
       "      <td>190</td>\n",
       "      <td>Васильев Артем Александрович</td>\n",
       "      <td>2022-12-01</td>\n",
       "      <td>2023-02-01</td>\n",
       "      <td>149100.0</td>\n",
       "    </tr>\n",
       "    <tr>\n",
       "      <th>3</th>\n",
       "      <td>190</td>\n",
       "      <td>Васильев Артем Александрович</td>\n",
       "      <td>2022-12-01</td>\n",
       "      <td>2023-12-01</td>\n",
       "      <td>149100.0</td>\n",
       "    </tr>\n",
       "    <tr>\n",
       "      <th>4</th>\n",
       "      <td>190</td>\n",
       "      <td>Васильев Артем Александрович</td>\n",
       "      <td>2023-01-01</td>\n",
       "      <td>2023-02-01</td>\n",
       "      <td>177595.0</td>\n",
       "    </tr>\n",
       "  </tbody>\n",
       "</table>\n",
       "</div>"
      ],
      "text/plain": [
       "   project_id               account_manager shipment_month project_end_month  \\\n",
       "0         190  Васильев Артем Александрович     2022-11-01        2023-02-01   \n",
       "1         190  Васильев Артем Александрович     2022-11-01        2023-12-01   \n",
       "2         190  Васильев Артем Александрович     2022-12-01        2023-02-01   \n",
       "3         190  Васильев Артем Александрович     2022-12-01        2023-12-01   \n",
       "4         190  Васильев Артем Александрович     2023-01-01        2023-02-01   \n",
       "\n",
       "   shipment_sum  \n",
       "0      149080.0  \n",
       "1      149080.0  \n",
       "2      149100.0  \n",
       "3      149100.0  \n",
       "4      177595.0  "
      ]
     },
     "execution_count": 12,
     "metadata": {},
     "output_type": "execute_result"
    }
   ],
   "source": [
    "df_cleanest.head()"
   ]
  },
  {
   "cell_type": "markdown",
   "id": "87323bee",
   "metadata": {},
   "source": [
    "### Шаг 4: Расчет коэффициентов"
   ]
  },
  {
   "cell_type": "markdown",
   "id": "6bc50212",
   "metadata": {},
   "source": [
    "Реализация основного цикла для итеративного расчета К1 и К2."
   ]
  },
  {
   "cell_type": "code",
   "execution_count": 13,
   "id": "4be763c2",
   "metadata": {},
   "outputs": [],
   "source": [
    "managers = df_cleanest['account_manager'].unique().tolist()\n",
    "all_managers_label = 'Весь отдел'\n",
    "managers_and_total = managers + [all_managers_label]\n",
    "\n",
    "report_months = pd.to_datetime([f'2023-{i}-01' for i in range(1, 13)])\n",
    "\n",
    "results = []"
   ]
  },
  {
   "cell_type": "markdown",
   "id": "8544a26a",
   "metadata": {},
   "source": [
    "Сам цикл:"
   ]
  },
  {
   "cell_type": "code",
   "execution_count": 14,
   "id": "2ad29611",
   "metadata": {},
   "outputs": [],
   "source": [
    "for manager in managers_and_total:\n",
    "    \n",
    "    if manager == all_managers_label:\n",
    "        manager_df = df_cleanest\n",
    "    else:\n",
    "        manager_df = df_cleanest[df_cleanest['account_manager'] == manager]\n",
    "\n",
    "    total_k1_numerator, total_k1_denominator = 0, 0\n",
    "    total_k2_numerator, total_k2_denominator = 0, 0\n",
    "\n",
    "    for current_month in report_months:\n",
    "\n",
    "        # Расчет Коэффициента пролонгации на 1-й месяц\n",
    "        prev_month = current_month - DateOffset(months=1)\n",
    "\n",
    "        # Знаменатель: Находим проекты, завершившиеся в прошлом месяце, и сумму их отгрузки\n",
    "        # за тот же месяц\n",
    "        k1_base_df = manager_df[\n",
    "            (manager_df['project_end_month'] == prev_month) &\n",
    "            (manager_df['shipment_month'] == prev_month)\n",
    "        ]\n",
    "        k1_denominator = k1_base_df['shipment_sum'].sum()\n",
    "\n",
    "        # Числитель: Для этих же проектов смотрим их отгрузку в текущем месяце\n",
    "        k1_prolonged_project_ids = k1_base_df['project_id'].unique()\n",
    "        k1_numerator = manager_df[\n",
    "            (manager_df['project_id'].isin(k1_prolonged_project_ids)) &\n",
    "            (manager_df['shipment_month'] == current_month)\n",
    "        ]['shipment_sum'].sum()\n",
    "\n",
    "        # Расчет Коэффициента пролонгации на 2-й месяц\n",
    "        month_minus_2 = current_month - DateOffset(months=2)\n",
    "\n",
    "        # Знаменатель:\n",
    "        # 1. Находим ID проектов, завершившихся 2 месяца назад\n",
    "        ended_m2_ids = manager_df[manager_df['project_end_month'] == month_minus_2]['project_id'].unique()\n",
    "\n",
    "        # 2. Находим ID проектов из 1-ого пункта, у которых была отгрузка в прошлом месяце (т.е. они были пролонгированы на 1-й месяц)\n",
    "        prolonged_in_1st_month_ids = manager_df[\n",
    "            (manager_df['project_id'].isin(ended_m2_ids)) &\n",
    "            (manager_df['shipment_month'] == prev_month) &\n",
    "            (manager_df['shipment_sum'] > 0)\n",
    "        ]['project_id'].unique()\n",
    "\n",
    "        # 3. Находим ID проектов для нашей базы - те, что завершились 2 месяца назад и не были пролонгированы на 1-й месяц\n",
    "        k2_base_project_ids = np.setdiff1d(ended_m2_ids, prolonged_in_1st_month_ids)\n",
    "\n",
    "        # 4. Считаем сумму отгрузки для этих непролонгированных проектов за их последний месяц (т.е. 2 месяца назад)\n",
    "        k2_denominator = manager_df[\n",
    "            (manager_df['project_id'].isin(k2_base_project_ids)) &\n",
    "            (manager_df['shipment_month'] == month_minus_2)\n",
    "        ]['shipment_sum'].sum()\n",
    "\n",
    "        # Числитель: Для этих же непролонгированных проектов ищем отгрузку в текущем месяце\n",
    "        k2_numerator = manager_df[\n",
    "            (manager_df['project_id'].isin(k2_base_project_ids)) &\n",
    "            (manager_df['shipment_month'] == current_month)\n",
    "        ]['shipment_sum'].sum()\n",
    "\n",
    "        # Рассчитываем коэффициенты, избегая деления на ноль\n",
    "        k1 = k1_numerator / k1_denominator if k1_denominator > 0 else 0\n",
    "        k2 = k2_numerator / k2_denominator if k2_denominator > 0 else 0\n",
    "\n",
    "        # Сохраняем результат за месяц в наш список\n",
    "        results.append({\n",
    "            'Менеджер': manager,\n",
    "            'Метрика': 'Коэффициент 1',\n",
    "            'Месяц': current_month,\n",
    "            'Значение': k1\n",
    "        })\n",
    "        results.append({\n",
    "            'Менеджер': manager,\n",
    "            'Метрика': 'Коэффициент 2',\n",
    "            'Месяц': current_month,\n",
    "            'Значение': k2\n",
    "        })\n",
    "\n",
    "        # Добавляем месячные суммы к годовым\n",
    "        total_k1_numerator += k1_numerator\n",
    "        total_k1_denominator += k1_denominator\n",
    "        total_k2_numerator += k2_numerator\n",
    "        total_k2_denominator += k2_denominator\n",
    "    \n",
    "    # Рассчитываем годовые коэффициенты\n",
    "    annual_k1 = total_k1_numerator / total_k1_denominator if total_k1_denominator > 0 else 0\n",
    "    annual_k2 = total_k2_numerator / total_k2_denominator if total_k2_denominator > 0 else 0\n",
    "\n",
    "    # Сохраняем годовой результат\n",
    "    results.append({\n",
    "        'Менеджер': manager,\n",
    "        'Метрика': 'Коэффициент 1 (Год)',\n",
    "        'Месяц': 'Годовой',\n",
    "        'Значение': annual_k1\n",
    "    })\n",
    "    results.append({\n",
    "        'Менеджер': manager,\n",
    "        'Метрика': 'Коэффициент 2 (Год)',\n",
    "        'Месяц': 'Годовой',\n",
    "        'Значение': annual_k2\n",
    "    })"
   ]
  },
  {
   "cell_type": "markdown",
   "id": "9785cc15",
   "metadata": {},
   "source": [
    "### Шаг 5: Формирование и экспорт отчета в Excel"
   ]
  },
  {
   "cell_type": "markdown",
   "id": "dcabd897",
   "metadata": {},
   "source": [
    "Сводим полученные результаты в `pivot`-таблицу и выгружаем в Excel-файл, применяя базовое форматирование."
   ]
  },
  {
   "cell_type": "code",
   "execution_count": 15,
   "id": "4acaea41",
   "metadata": {},
   "outputs": [],
   "source": [
    "results_df = pd.DataFrame(results)\n",
    "\n",
    "report_pivot = results_df.pivot_table(\n",
    "    index='Менеджер', \n",
    "    columns=['Месяц', 'Метрика'], \n",
    "    values='Значение'\n",
    ")\n",
    "\n",
    "file_name = 'analytical_report.xlsx'\n",
    "with pd.ExcelWriter(file_name, engine='xlsxwriter') as writer:\n",
    "    report_pivot.to_excel(writer, sheet_name='Отчет по пролонгациям', merge_cells=True)\n",
    "    \n",
    "    workbook = writer.book\n",
    "    worksheet = writer.sheets['Отчет по пролонгациям']\n",
    "    \n",
    "    worksheet.set_column('A:A', 30)\n",
    "    worksheet.set_column('B:AZ', 15)"
   ]
  }
 ],
 "metadata": {
  "kernelspec": {
   "display_name": "Python 3",
   "language": "python",
   "name": "python3"
  },
  "language_info": {
   "codemirror_mode": {
    "name": "ipython",
    "version": 3
   },
   "file_extension": ".py",
   "mimetype": "text/x-python",
   "name": "python",
   "nbconvert_exporter": "python",
   "pygments_lexer": "ipython3",
   "version": "3.13.2"
  }
 },
 "nbformat": 4,
 "nbformat_minor": 5
}
