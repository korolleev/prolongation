{
 "cells": [
  {
   "cell_type": "markdown",
   "id": "7d9f2d9a",
   "metadata": {},
   "source": []
  },
  {
   "cell_type": "markdown",
   "id": "8e0542dd",
   "metadata": {},
   "source": [
    "### Шаг 1: Первичная обработка данных"
   ]
  },
  {
   "cell_type": "code",
   "execution_count": 1,
   "id": "180c7298",
   "metadata": {},
   "outputs": [],
   "source": [
    "import pandas as pd\n",
    "import numpy as np"
   ]
  },
  {
   "cell_type": "code",
   "execution_count": 2,
   "id": "3bfe145f",
   "metadata": {},
   "outputs": [],
   "source": [
    "df_prolongations = pd.read_csv('prolongations.csv')\n",
    "df_financial = pd.read_csv('financial_data.csv', decimal=',', thousands=' ')"
   ]
  },
  {
   "cell_type": "code",
   "execution_count": 3,
   "id": "935c7e59",
   "metadata": {},
   "outputs": [
    {
     "data": {
      "text/html": [
       "<div>\n",
       "<style scoped>\n",
       "    .dataframe tbody tr th:only-of-type {\n",
       "        vertical-align: middle;\n",
       "    }\n",
       "\n",
       "    .dataframe tbody tr th {\n",
       "        vertical-align: top;\n",
       "    }\n",
       "\n",
       "    .dataframe thead th {\n",
       "        text-align: right;\n",
       "    }\n",
       "</style>\n",
       "<table border=\"1\" class=\"dataframe\">\n",
       "  <thead>\n",
       "    <tr style=\"text-align: right;\">\n",
       "      <th></th>\n",
       "      <th>id</th>\n",
       "      <th>month</th>\n",
       "      <th>AM</th>\n",
       "    </tr>\n",
       "  </thead>\n",
       "  <tbody>\n",
       "    <tr>\n",
       "      <th>0</th>\n",
       "      <td>42</td>\n",
       "      <td>ноябрь 2022</td>\n",
       "      <td>Васильев Артем Александрович</td>\n",
       "    </tr>\n",
       "    <tr>\n",
       "      <th>1</th>\n",
       "      <td>453</td>\n",
       "      <td>ноябрь 2022</td>\n",
       "      <td>Васильев Артем Александрович</td>\n",
       "    </tr>\n",
       "    <tr>\n",
       "      <th>2</th>\n",
       "      <td>548</td>\n",
       "      <td>ноябрь 2022</td>\n",
       "      <td>Михайлов Андрей Сергеевич</td>\n",
       "    </tr>\n",
       "    <tr>\n",
       "      <th>3</th>\n",
       "      <td>87</td>\n",
       "      <td>ноябрь 2022</td>\n",
       "      <td>Соколова Анастасия Викторовна</td>\n",
       "    </tr>\n",
       "    <tr>\n",
       "      <th>4</th>\n",
       "      <td>429</td>\n",
       "      <td>ноябрь 2022</td>\n",
       "      <td>Соколова Анастасия Викторовна</td>\n",
       "    </tr>\n",
       "  </tbody>\n",
       "</table>\n",
       "</div>"
      ],
      "text/plain": [
       "    id        month                             AM\n",
       "0   42  ноябрь 2022   Васильев Артем Александрович\n",
       "1  453  ноябрь 2022   Васильев Артем Александрович\n",
       "2  548  ноябрь 2022      Михайлов Андрей Сергеевич\n",
       "3   87  ноябрь 2022  Соколова Анастасия Викторовна\n",
       "4  429  ноябрь 2022  Соколова Анастасия Викторовна"
      ]
     },
     "execution_count": 3,
     "metadata": {},
     "output_type": "execute_result"
    }
   ],
   "source": [
    "df_prolongations.head()"
   ]
  },
  {
   "cell_type": "code",
   "execution_count": 4,
   "id": "ab46160a",
   "metadata": {},
   "outputs": [
    {
     "data": {
      "text/html": [
       "<div>\n",
       "<style scoped>\n",
       "    .dataframe tbody tr th:only-of-type {\n",
       "        vertical-align: middle;\n",
       "    }\n",
       "\n",
       "    .dataframe tbody tr th {\n",
       "        vertical-align: top;\n",
       "    }\n",
       "\n",
       "    .dataframe thead th {\n",
       "        text-align: right;\n",
       "    }\n",
       "</style>\n",
       "<table border=\"1\" class=\"dataframe\">\n",
       "  <thead>\n",
       "    <tr style=\"text-align: right;\">\n",
       "      <th></th>\n",
       "      <th>id</th>\n",
       "      <th>Причина дубля</th>\n",
       "      <th>Ноябрь 2022</th>\n",
       "      <th>Декабрь 2022</th>\n",
       "      <th>Январь 2023</th>\n",
       "      <th>Февраль 2023</th>\n",
       "      <th>Март 2023</th>\n",
       "      <th>Апрель 2023</th>\n",
       "      <th>Май 2023</th>\n",
       "      <th>Июнь 2023</th>\n",
       "      <th>Июль 2023</th>\n",
       "      <th>Август 2023</th>\n",
       "      <th>Сентябрь 2023</th>\n",
       "      <th>Октябрь 2023</th>\n",
       "      <th>Ноябрь 2023</th>\n",
       "      <th>Декабрь 2023</th>\n",
       "      <th>Январь 2024</th>\n",
       "      <th>Февраль 2024</th>\n",
       "      <th>Account</th>\n",
       "    </tr>\n",
       "  </thead>\n",
       "  <tbody>\n",
       "    <tr>\n",
       "      <th>0</th>\n",
       "      <td>42</td>\n",
       "      <td>NaN</td>\n",
       "      <td>36 220,00</td>\n",
       "      <td>NaN</td>\n",
       "      <td>NaN</td>\n",
       "      <td>NaN</td>\n",
       "      <td>NaN</td>\n",
       "      <td>NaN</td>\n",
       "      <td>NaN</td>\n",
       "      <td>NaN</td>\n",
       "      <td>NaN</td>\n",
       "      <td>NaN</td>\n",
       "      <td>NaN</td>\n",
       "      <td>NaN</td>\n",
       "      <td>NaN</td>\n",
       "      <td>NaN</td>\n",
       "      <td>NaN</td>\n",
       "      <td>NaN</td>\n",
       "      <td>Васильев Артем Александрович</td>\n",
       "    </tr>\n",
       "    <tr>\n",
       "      <th>1</th>\n",
       "      <td>657</td>\n",
       "      <td>первая часть оплаты</td>\n",
       "      <td>стоп</td>\n",
       "      <td>NaN</td>\n",
       "      <td>NaN</td>\n",
       "      <td>NaN</td>\n",
       "      <td>NaN</td>\n",
       "      <td>NaN</td>\n",
       "      <td>NaN</td>\n",
       "      <td>NaN</td>\n",
       "      <td>NaN</td>\n",
       "      <td>NaN</td>\n",
       "      <td>NaN</td>\n",
       "      <td>NaN</td>\n",
       "      <td>NaN</td>\n",
       "      <td>NaN</td>\n",
       "      <td>NaN</td>\n",
       "      <td>NaN</td>\n",
       "      <td>Васильев Артем Александрович</td>\n",
       "    </tr>\n",
       "    <tr>\n",
       "      <th>2</th>\n",
       "      <td>657</td>\n",
       "      <td>вторая часть оплаты</td>\n",
       "      <td>стоп</td>\n",
       "      <td>NaN</td>\n",
       "      <td>NaN</td>\n",
       "      <td>NaN</td>\n",
       "      <td>NaN</td>\n",
       "      <td>NaN</td>\n",
       "      <td>NaN</td>\n",
       "      <td>NaN</td>\n",
       "      <td>NaN</td>\n",
       "      <td>NaN</td>\n",
       "      <td>NaN</td>\n",
       "      <td>NaN</td>\n",
       "      <td>NaN</td>\n",
       "      <td>NaN</td>\n",
       "      <td>NaN</td>\n",
       "      <td>NaN</td>\n",
       "      <td>Васильев Артем Александрович</td>\n",
       "    </tr>\n",
       "  </tbody>\n",
       "</table>\n",
       "</div>"
      ],
      "text/plain": [
       "    id        Причина дубля Ноябрь 2022 Декабрь 2022 Январь 2023 Февраль 2023  \\\n",
       "0   42                  NaN   36 220,00          NaN         NaN          NaN   \n",
       "1  657  первая часть оплаты        стоп          NaN         NaN          NaN   \n",
       "2  657  вторая часть оплаты        стоп          NaN         NaN          NaN   \n",
       "\n",
       "  Март 2023 Апрель 2023 Май 2023 Июнь 2023 Июль 2023 Август 2023  \\\n",
       "0       NaN         NaN      NaN       NaN       NaN         NaN   \n",
       "1       NaN         NaN      NaN       NaN       NaN         NaN   \n",
       "2       NaN         NaN      NaN       NaN       NaN         NaN   \n",
       "\n",
       "  Сентябрь 2023 Октябрь 2023 Ноябрь 2023 Декабрь 2023 Январь 2024  \\\n",
       "0           NaN          NaN         NaN          NaN         NaN   \n",
       "1           NaN          NaN         NaN          NaN         NaN   \n",
       "2           NaN          NaN         NaN          NaN         NaN   \n",
       "\n",
       "  Февраль 2024                       Account  \n",
       "0          NaN  Васильев Артем Александрович  \n",
       "1          NaN  Васильев Артем Александрович  \n",
       "2          NaN  Васильев Артем Александрович  "
      ]
     },
     "execution_count": 4,
     "metadata": {},
     "output_type": "execute_result"
    }
   ],
   "source": [
    "df_financial.head(3)"
   ]
  },
  {
   "cell_type": "markdown",
   "id": "7a4cc2ae",
   "metadata": {},
   "source": [
    "Определяем колонки, которые не являются месяцами"
   ]
  },
  {
   "cell_type": "code",
   "execution_count": 5,
   "id": "0ea9df2d",
   "metadata": {},
   "outputs": [],
   "source": [
    "id_vars = ['id', 'Причина дубля', 'Account']"
   ]
  },
  {
   "cell_type": "markdown",
   "id": "326ee163",
   "metadata": {},
   "source": [
    "Определяем колонки, которые являются месяцами и содержат суммы отгрузок"
   ]
  },
  {
   "cell_type": "code",
   "execution_count": 6,
   "id": "b81840d9",
   "metadata": {},
   "outputs": [],
   "source": [
    "value_vars = [col for col in df_financial.columns if col not in id_vars]"
   ]
  },
  {
   "cell_type": "markdown",
   "id": "9a627304",
   "metadata": {},
   "source": [
    "Преобразуем (\"расплавляем\") \"широкую\" таблицу в \"длинную\""
   ]
  },
  {
   "cell_type": "code",
   "execution_count": 7,
   "id": "c2f712c0",
   "metadata": {},
   "outputs": [],
   "source": [
    "df_financial_long = pd.melt(\n",
    "    df_financial,\n",
    "    id_vars=id_vars,\n",
    "    value_vars=value_vars,\n",
    "    var_name='shipment_month_str', # Новая колонка для названий месяцев\n",
    "    value_name='shipment_amount'   # Новая колонка для сумм отгрузок\n",
    ")"
   ]
  },
  {
   "cell_type": "markdown",
   "id": "e8060e0f",
   "metadata": {},
   "source": [
    "Обрабатываем специальные текстовые значения в суммах отгрузок"
   ]
  },
  {
   "cell_type": "markdown",
   "id": "27e5b4da",
   "metadata": {},
   "source": [
    "Сначала заменяем \"в ноль\" на специальный маркер, например -1, чтобы отличить от настоящих нулей"
   ]
  },
  {
   "cell_type": "code",
   "execution_count": 8,
   "id": "9acdb76e",
   "metadata": {},
   "outputs": [],
   "source": [
    "df_financial_long['shipment_amount'] = df_financial_long['shipment_amount'].replace('в ноль', -1)"
   ]
  },
  {
   "cell_type": "markdown",
   "id": "b1f88198",
   "metadata": {},
   "source": [
    "Заменяем 'стоп' и 'end' на NaN (Not a Number), чтобы их можно было легко исключить из математических операций. Они будут обозначать отсутствие данных."
   ]
  },
  {
   "cell_type": "code",
   "execution_count": 9,
   "id": "ee32f0b9",
   "metadata": {},
   "outputs": [],
   "source": [
    "df_financial_long['shipment_amount'] = df_financial_long['shipment_amount'].replace(['стоп', 'end'], np.nan)"
   ]
  },
  {
   "cell_type": "markdown",
   "id": "89830321",
   "metadata": {},
   "source": [
    "Находим все project_id, у которых есть хотя бы одно значение NaN (бывший 'стоп'/'end')"
   ]
  },
  {
   "cell_type": "code",
   "execution_count": 10,
   "id": "446c6ab6",
   "metadata": {},
   "outputs": [],
   "source": [
    "stopped_projects = df_financial_long[df_financial_long['shipment_amount'].isna()]['id'].unique()"
   ]
  },
  {
   "cell_type": "markdown",
   "id": "6b2ac110",
   "metadata": {},
   "source": [
    "Удаляем ВСЕ данные по этим проектам из таблицы"
   ]
  },
  {
   "cell_type": "code",
   "execution_count": 11,
   "id": "0591b71a",
   "metadata": {},
   "outputs": [],
   "source": [
    "df_financial_long = df_financial_long[~df_financial_long['id'].isin(stopped_projects)]"
   ]
  },
  {
   "cell_type": "markdown",
   "id": "ae72888f",
   "metadata": {},
   "source": [
    "Функция для преобразования числовых значений"
   ]
  },
  {
   "cell_type": "code",
   "execution_count": 12,
   "id": "2ea41ef5",
   "metadata": {},
   "outputs": [],
   "source": [
    "def clean_value(value):\n",
    "    if isinstance(value, str):\n",
    "        value = value.replace('\\xa0', '').replace(' ', '').replace(',', '.')\n",
    "    try:\n",
    "        return float(value)\n",
    "    except (ValueError, TypeError):\n",
    "        return 0.0"
   ]
  },
  {
   "cell_type": "markdown",
   "id": "a76613bd",
   "metadata": {},
   "source": [
    "Применяем"
   ]
  },
  {
   "cell_type": "code",
   "execution_count": 13,
   "id": "a4e6d67d",
   "metadata": {},
   "outputs": [],
   "source": [
    "df_financial_long['shipment_amount'] = df_financial_long['shipment_amount'].apply(clean_value)"
   ]
  },
  {
   "cell_type": "markdown",
   "id": "a40cade3",
   "metadata": {},
   "source": [
    "Преобразуем текстовые даты в datetime объекты"
   ]
  },
  {
   "cell_type": "code",
   "execution_count": 14,
   "id": "dcef5a88",
   "metadata": {},
   "outputs": [],
   "source": [
    "month_map = {'Январь':'01','Февраль':'02','Март':'03','Апрель':'04','Май':'05','Июнь':'06','Июль':'07','Август':'08','Сентябрь':'09','Октябрь':'10','Ноябрь':'11','Декабрь':'12'}\n",
    "date_series = df_financial_long['shipment_month_str'].str.split(' ')\n",
    "df_financial_long['Дата_norm'] = '01-' + date_series.str[0].map(month_map) + '-' + date_series.str[1]\n",
    "df_financial_long['shipment_month_str'] = pd.to_datetime(df_financial_long['Дата_norm'], format='%d-%m-%Y')"
   ]
  },
  {
   "cell_type": "markdown",
   "id": "3cee1647",
   "metadata": {},
   "source": [
    "То же самое проделываем для таблицы пролонгаций"
   ]
  },
  {
   "cell_type": "code",
   "execution_count": 15,
   "id": "dd7fbe76",
   "metadata": {},
   "outputs": [],
   "source": [
    "date_series = df_prolongations['month'].str.split(' ')\n",
    "df_prolongations['Дата_norm'] = '01-' + date_series.str[0].str.capitalize().map(month_map) + '-' + date_series.str[1]\n",
    "df_prolongations['month'] = pd.to_datetime(df_prolongations['Дата_norm'], format='%d-%m-%Y')"
   ]
  },
  {
   "cell_type": "code",
   "execution_count": 16,
   "id": "4fa10096",
   "metadata": {},
   "outputs": [],
   "source": [
    "df_prolongations = df_prolongations.drop(columns=['Дата_norm'])\n",
    "df_financial_long = df_financial_long.drop(columns=['Дата_norm'])"
   ]
  },
  {
   "cell_type": "code",
   "execution_count": 17,
   "id": "4b3f6bd5",
   "metadata": {},
   "outputs": [
    {
     "data": {
      "text/html": [
       "<div>\n",
       "<style scoped>\n",
       "    .dataframe tbody tr th:only-of-type {\n",
       "        vertical-align: middle;\n",
       "    }\n",
       "\n",
       "    .dataframe tbody tr th {\n",
       "        vertical-align: top;\n",
       "    }\n",
       "\n",
       "    .dataframe thead th {\n",
       "        text-align: right;\n",
       "    }\n",
       "</style>\n",
       "<table border=\"1\" class=\"dataframe\">\n",
       "  <thead>\n",
       "    <tr style=\"text-align: right;\">\n",
       "      <th></th>\n",
       "      <th>id</th>\n",
       "      <th>month</th>\n",
       "      <th>AM</th>\n",
       "    </tr>\n",
       "  </thead>\n",
       "  <tbody>\n",
       "    <tr>\n",
       "      <th>0</th>\n",
       "      <td>42</td>\n",
       "      <td>2022-11-01</td>\n",
       "      <td>Васильев Артем Александрович</td>\n",
       "    </tr>\n",
       "    <tr>\n",
       "      <th>1</th>\n",
       "      <td>453</td>\n",
       "      <td>2022-11-01</td>\n",
       "      <td>Васильев Артем Александрович</td>\n",
       "    </tr>\n",
       "    <tr>\n",
       "      <th>2</th>\n",
       "      <td>548</td>\n",
       "      <td>2022-11-01</td>\n",
       "      <td>Михайлов Андрей Сергеевич</td>\n",
       "    </tr>\n",
       "    <tr>\n",
       "      <th>3</th>\n",
       "      <td>87</td>\n",
       "      <td>2022-11-01</td>\n",
       "      <td>Соколова Анастасия Викторовна</td>\n",
       "    </tr>\n",
       "    <tr>\n",
       "      <th>4</th>\n",
       "      <td>429</td>\n",
       "      <td>2022-11-01</td>\n",
       "      <td>Соколова Анастасия Викторовна</td>\n",
       "    </tr>\n",
       "  </tbody>\n",
       "</table>\n",
       "</div>"
      ],
      "text/plain": [
       "    id      month                             AM\n",
       "0   42 2022-11-01   Васильев Артем Александрович\n",
       "1  453 2022-11-01   Васильев Артем Александрович\n",
       "2  548 2022-11-01      Михайлов Андрей Сергеевич\n",
       "3   87 2022-11-01  Соколова Анастасия Викторовна\n",
       "4  429 2022-11-01  Соколова Анастасия Викторовна"
      ]
     },
     "execution_count": 17,
     "metadata": {},
     "output_type": "execute_result"
    }
   ],
   "source": [
    "df_prolongations.head()"
   ]
  },
  {
   "cell_type": "code",
   "execution_count": 18,
   "id": "ab4605f2",
   "metadata": {},
   "outputs": [
    {
     "data": {
      "text/html": [
       "<div>\n",
       "<style scoped>\n",
       "    .dataframe tbody tr th:only-of-type {\n",
       "        vertical-align: middle;\n",
       "    }\n",
       "\n",
       "    .dataframe tbody tr th {\n",
       "        vertical-align: top;\n",
       "    }\n",
       "\n",
       "    .dataframe thead th {\n",
       "        text-align: right;\n",
       "    }\n",
       "</style>\n",
       "<table border=\"1\" class=\"dataframe\">\n",
       "  <thead>\n",
       "    <tr style=\"text-align: right;\">\n",
       "      <th></th>\n",
       "      <th>id</th>\n",
       "      <th>Причина дубля</th>\n",
       "      <th>Account</th>\n",
       "      <th>shipment_month_str</th>\n",
       "      <th>shipment_amount</th>\n",
       "    </tr>\n",
       "  </thead>\n",
       "  <tbody>\n",
       "    <tr>\n",
       "      <th>211</th>\n",
       "      <td>268</td>\n",
       "      <td>NaN</td>\n",
       "      <td>Смирнова Ольга Владимировна</td>\n",
       "      <td>2022-11-01</td>\n",
       "      <td>79235.0</td>\n",
       "    </tr>\n",
       "    <tr>\n",
       "      <th>235</th>\n",
       "      <td>676</td>\n",
       "      <td>первая часть оплаты</td>\n",
       "      <td>Смирнова Ольга Владимировна</td>\n",
       "      <td>2022-11-01</td>\n",
       "      <td>388195.0</td>\n",
       "    </tr>\n",
       "    <tr>\n",
       "      <th>236</th>\n",
       "      <td>676</td>\n",
       "      <td>вторая часть оплаты</td>\n",
       "      <td>Смирнова Ольга Владимировна</td>\n",
       "      <td>2022-11-01</td>\n",
       "      <td>14280.0</td>\n",
       "    </tr>\n",
       "    <tr>\n",
       "      <th>240</th>\n",
       "      <td>668</td>\n",
       "      <td>первая часть оплаты</td>\n",
       "      <td>Попова Екатерина Николаевна</td>\n",
       "      <td>2022-11-01</td>\n",
       "      <td>27950.0</td>\n",
       "    </tr>\n",
       "    <tr>\n",
       "      <th>241</th>\n",
       "      <td>668</td>\n",
       "      <td>вторая часть оплаты</td>\n",
       "      <td>Попова Екатерина Николаевна</td>\n",
       "      <td>2022-11-01</td>\n",
       "      <td>24401.0</td>\n",
       "    </tr>\n",
       "  </tbody>\n",
       "</table>\n",
       "</div>"
      ],
      "text/plain": [
       "      id        Причина дубля                      Account shipment_month_str  \\\n",
       "211  268                  NaN  Смирнова Ольга Владимировна         2022-11-01   \n",
       "235  676  первая часть оплаты  Смирнова Ольга Владимировна         2022-11-01   \n",
       "236  676  вторая часть оплаты  Смирнова Ольга Владимировна         2022-11-01   \n",
       "240  668  первая часть оплаты  Попова Екатерина Николаевна         2022-11-01   \n",
       "241  668  вторая часть оплаты  Попова Екатерина Николаевна         2022-11-01   \n",
       "\n",
       "     shipment_amount  \n",
       "211          79235.0  \n",
       "235         388195.0  \n",
       "236          14280.0  \n",
       "240          27950.0  \n",
       "241          24401.0  "
      ]
     },
     "execution_count": 18,
     "metadata": {},
     "output_type": "execute_result"
    }
   ],
   "source": [
    "df_financial_long.head()"
   ]
  },
  {
   "cell_type": "markdown",
   "id": "0bc00f5a",
   "metadata": {},
   "source": [
    "Сортируем данные, чтобы месяцы шли по порядку для каждого проекта"
   ]
  },
  {
   "cell_type": "code",
   "execution_count": 19,
   "id": "6ab9558b",
   "metadata": {},
   "outputs": [],
   "source": [
    "df_financial_long = df_financial_long.sort_values(by=['id', 'shipment_month_str'])"
   ]
  },
  {
   "cell_type": "markdown",
   "id": "0733d0b9",
   "metadata": {},
   "source": [
    "Для каждого проекта ('id') заполняем значения -1 предыдущим значением ffill - forward fill"
   ]
  },
  {
   "cell_type": "code",
   "execution_count": 20,
   "id": "09868695",
   "metadata": {},
   "outputs": [
    {
     "name": "stderr",
     "output_type": "stream",
     "text": [
      "C:\\Users\\scarl\\AppData\\Local\\Temp\\ipykernel_17504\\1522537242.py:2: FutureWarning: The 'method' keyword in Series.replace is deprecated and will be removed in a future version.\n",
      "  lambda x: x.replace(-1, method='ffill')\n"
     ]
    }
   ],
   "source": [
    "df_financial_long['shipment_amount'] = df_financial_long.groupby('id')['shipment_amount'].transform(\n",
    "    lambda x: x.replace(-1, method='ffill')\n",
    ")"
   ]
  },
  {
   "cell_type": "markdown",
   "id": "113db72b",
   "metadata": {},
   "source": [
    "Если после этого все еще остались -1 (например, в самом первом месяце проекта), то их уже можно заменить на 0"
   ]
  },
  {
   "cell_type": "code",
   "execution_count": 21,
   "id": "aab082f0",
   "metadata": {},
   "outputs": [],
   "source": [
    "df_financial_long['shipment_amount'] = df_financial_long['shipment_amount'].replace(-1, 0)"
   ]
  },
  {
   "cell_type": "code",
   "execution_count": 22,
   "id": "a5e397fc",
   "metadata": {},
   "outputs": [],
   "source": [
    "df_merged = pd.merge(\n",
    "    df_prolongations,\n",
    "    df_financial_long,\n",
    "    on='id',\n",
    "    how='inner'\n",
    ")"
   ]
  },
  {
   "cell_type": "code",
   "execution_count": 23,
   "id": "232ccf64",
   "metadata": {},
   "outputs": [
    {
     "data": {
      "text/html": [
       "<div>\n",
       "<style scoped>\n",
       "    .dataframe tbody tr th:only-of-type {\n",
       "        vertical-align: middle;\n",
       "    }\n",
       "\n",
       "    .dataframe tbody tr th {\n",
       "        vertical-align: top;\n",
       "    }\n",
       "\n",
       "    .dataframe thead th {\n",
       "        text-align: right;\n",
       "    }\n",
       "</style>\n",
       "<table border=\"1\" class=\"dataframe\">\n",
       "  <thead>\n",
       "    <tr style=\"text-align: right;\">\n",
       "      <th></th>\n",
       "      <th>id</th>\n",
       "      <th>month</th>\n",
       "      <th>AM</th>\n",
       "      <th>Причина дубля</th>\n",
       "      <th>Account</th>\n",
       "      <th>shipment_month_str</th>\n",
       "      <th>shipment_amount</th>\n",
       "    </tr>\n",
       "  </thead>\n",
       "  <tbody>\n",
       "    <tr>\n",
       "      <th>0</th>\n",
       "      <td>547</td>\n",
       "      <td>2022-11-01</td>\n",
       "      <td>Михайлов Андрей Сергеевич</td>\n",
       "      <td>основные работы</td>\n",
       "      <td>Соколова Анастасия Викторовна</td>\n",
       "      <td>2022-11-01</td>\n",
       "      <td>144180.0</td>\n",
       "    </tr>\n",
       "    <tr>\n",
       "      <th>1</th>\n",
       "      <td>547</td>\n",
       "      <td>2022-11-01</td>\n",
       "      <td>Михайлов Андрей Сергеевич</td>\n",
       "      <td>основные работы</td>\n",
       "      <td>Соколова Анастасия Викторовна</td>\n",
       "      <td>2022-12-01</td>\n",
       "      <td>104660.0</td>\n",
       "    </tr>\n",
       "    <tr>\n",
       "      <th>2</th>\n",
       "      <td>547</td>\n",
       "      <td>2022-11-01</td>\n",
       "      <td>Михайлов Андрей Сергеевич</td>\n",
       "      <td>основные работы</td>\n",
       "      <td>Соколова Анастасия Викторовна</td>\n",
       "      <td>2023-01-01</td>\n",
       "      <td>226420.0</td>\n",
       "    </tr>\n",
       "    <tr>\n",
       "      <th>3</th>\n",
       "      <td>547</td>\n",
       "      <td>2022-11-01</td>\n",
       "      <td>Михайлов Андрей Сергеевич</td>\n",
       "      <td>основные работы</td>\n",
       "      <td>Соколова Анастасия Викторовна</td>\n",
       "      <td>2023-02-01</td>\n",
       "      <td>139660.0</td>\n",
       "    </tr>\n",
       "    <tr>\n",
       "      <th>4</th>\n",
       "      <td>547</td>\n",
       "      <td>2022-11-01</td>\n",
       "      <td>Михайлов Андрей Сергеевич</td>\n",
       "      <td>основные работы</td>\n",
       "      <td>Соколова Анастасия Викторовна</td>\n",
       "      <td>2023-03-01</td>\n",
       "      <td>165540.0</td>\n",
       "    </tr>\n",
       "  </tbody>\n",
       "</table>\n",
       "</div>"
      ],
      "text/plain": [
       "    id      month                         AM    Причина дубля  \\\n",
       "0  547 2022-11-01  Михайлов Андрей Сергеевич  основные работы   \n",
       "1  547 2022-11-01  Михайлов Андрей Сергеевич  основные работы   \n",
       "2  547 2022-11-01  Михайлов Андрей Сергеевич  основные работы   \n",
       "3  547 2022-11-01  Михайлов Андрей Сергеевич  основные работы   \n",
       "4  547 2022-11-01  Михайлов Андрей Сергеевич  основные работы   \n",
       "\n",
       "                         Account shipment_month_str  shipment_amount  \n",
       "0  Соколова Анастасия Викторовна         2022-11-01         144180.0  \n",
       "1  Соколова Анастасия Викторовна         2022-12-01         104660.0  \n",
       "2  Соколова Анастасия Викторовна         2023-01-01         226420.0  \n",
       "3  Соколова Анастасия Викторовна         2023-02-01         139660.0  \n",
       "4  Соколова Анастасия Викторовна         2023-03-01         165540.0  "
      ]
     },
     "execution_count": 23,
     "metadata": {},
     "output_type": "execute_result"
    }
   ],
   "source": [
    "df_merged.head()"
   ]
  },
  {
   "cell_type": "code",
   "execution_count": 24,
   "id": "c74d834a",
   "metadata": {},
   "outputs": [],
   "source": [
    "df_clean = df_merged.drop(columns=['Account', 'Причина дубля'])"
   ]
  },
  {
   "cell_type": "code",
   "execution_count": 25,
   "id": "dbc24fbe",
   "metadata": {},
   "outputs": [],
   "source": [
    "df_agg = df_clean.groupby(['id', 'AM', 'shipment_month_str', 'month'])['shipment_amount'].sum().reset_index()"
   ]
  },
  {
   "cell_type": "code",
   "execution_count": 26,
   "id": "665e9f80",
   "metadata": {},
   "outputs": [],
   "source": [
    "df_cleanest = df_agg.rename(columns={\n",
    "    'id': 'project_id',\n",
    "    'AM': 'account_manager',\n",
    "    'month': 'project_end_month', # Последний месяц реализации проекта\n",
    "    'shipment_month_str': 'shipment_month',       # Месяц, за который произведена отгрузка\n",
    "    'shipment_amount': 'shipment_sum'        # Сумма отгрузки\n",
    "})"
   ]
  },
  {
   "cell_type": "code",
   "execution_count": 27,
   "id": "a09efa76",
   "metadata": {},
   "outputs": [
    {
     "data": {
      "text/html": [
       "<div>\n",
       "<style scoped>\n",
       "    .dataframe tbody tr th:only-of-type {\n",
       "        vertical-align: middle;\n",
       "    }\n",
       "\n",
       "    .dataframe tbody tr th {\n",
       "        vertical-align: top;\n",
       "    }\n",
       "\n",
       "    .dataframe thead th {\n",
       "        text-align: right;\n",
       "    }\n",
       "</style>\n",
       "<table border=\"1\" class=\"dataframe\">\n",
       "  <thead>\n",
       "    <tr style=\"text-align: right;\">\n",
       "      <th></th>\n",
       "      <th>project_id</th>\n",
       "      <th>account_manager</th>\n",
       "      <th>shipment_month</th>\n",
       "      <th>project_end_month</th>\n",
       "      <th>shipment_sum</th>\n",
       "    </tr>\n",
       "  </thead>\n",
       "  <tbody>\n",
       "    <tr>\n",
       "      <th>0</th>\n",
       "      <td>190</td>\n",
       "      <td>Васильев Артем Александрович</td>\n",
       "      <td>2022-11-01</td>\n",
       "      <td>2023-02-01</td>\n",
       "      <td>149080.0</td>\n",
       "    </tr>\n",
       "    <tr>\n",
       "      <th>1</th>\n",
       "      <td>190</td>\n",
       "      <td>Васильев Артем Александрович</td>\n",
       "      <td>2022-11-01</td>\n",
       "      <td>2023-12-01</td>\n",
       "      <td>149080.0</td>\n",
       "    </tr>\n",
       "    <tr>\n",
       "      <th>2</th>\n",
       "      <td>190</td>\n",
       "      <td>Васильев Артем Александрович</td>\n",
       "      <td>2022-12-01</td>\n",
       "      <td>2023-02-01</td>\n",
       "      <td>149100.0</td>\n",
       "    </tr>\n",
       "    <tr>\n",
       "      <th>3</th>\n",
       "      <td>190</td>\n",
       "      <td>Васильев Артем Александрович</td>\n",
       "      <td>2022-12-01</td>\n",
       "      <td>2023-12-01</td>\n",
       "      <td>149100.0</td>\n",
       "    </tr>\n",
       "    <tr>\n",
       "      <th>4</th>\n",
       "      <td>190</td>\n",
       "      <td>Васильев Артем Александрович</td>\n",
       "      <td>2023-01-01</td>\n",
       "      <td>2023-02-01</td>\n",
       "      <td>177595.0</td>\n",
       "    </tr>\n",
       "    <tr>\n",
       "      <th>...</th>\n",
       "      <td>...</td>\n",
       "      <td>...</td>\n",
       "      <td>...</td>\n",
       "      <td>...</td>\n",
       "      <td>...</td>\n",
       "    </tr>\n",
       "    <tr>\n",
       "      <th>299</th>\n",
       "      <td>707</td>\n",
       "      <td>Соколова Анастасия Викторовна</td>\n",
       "      <td>2023-10-01</td>\n",
       "      <td>2023-10-01</td>\n",
       "      <td>65700.0</td>\n",
       "    </tr>\n",
       "    <tr>\n",
       "      <th>300</th>\n",
       "      <td>707</td>\n",
       "      <td>Соколова Анастасия Викторовна</td>\n",
       "      <td>2023-11-01</td>\n",
       "      <td>2023-10-01</td>\n",
       "      <td>69190.0</td>\n",
       "    </tr>\n",
       "    <tr>\n",
       "      <th>301</th>\n",
       "      <td>707</td>\n",
       "      <td>Соколова Анастасия Викторовна</td>\n",
       "      <td>2023-12-01</td>\n",
       "      <td>2023-10-01</td>\n",
       "      <td>70230.0</td>\n",
       "    </tr>\n",
       "    <tr>\n",
       "      <th>302</th>\n",
       "      <td>707</td>\n",
       "      <td>Соколова Анастасия Викторовна</td>\n",
       "      <td>2024-01-01</td>\n",
       "      <td>2023-10-01</td>\n",
       "      <td>71710.0</td>\n",
       "    </tr>\n",
       "    <tr>\n",
       "      <th>303</th>\n",
       "      <td>707</td>\n",
       "      <td>Соколова Анастасия Викторовна</td>\n",
       "      <td>2024-02-01</td>\n",
       "      <td>2023-10-01</td>\n",
       "      <td>135860.0</td>\n",
       "    </tr>\n",
       "  </tbody>\n",
       "</table>\n",
       "<p>304 rows × 5 columns</p>\n",
       "</div>"
      ],
      "text/plain": [
       "     project_id                account_manager shipment_month  \\\n",
       "0           190   Васильев Артем Александрович     2022-11-01   \n",
       "1           190   Васильев Артем Александрович     2022-11-01   \n",
       "2           190   Васильев Артем Александрович     2022-12-01   \n",
       "3           190   Васильев Артем Александрович     2022-12-01   \n",
       "4           190   Васильев Артем Александрович     2023-01-01   \n",
       "..          ...                            ...            ...   \n",
       "299         707  Соколова Анастасия Викторовна     2023-10-01   \n",
       "300         707  Соколова Анастасия Викторовна     2023-11-01   \n",
       "301         707  Соколова Анастасия Викторовна     2023-12-01   \n",
       "302         707  Соколова Анастасия Викторовна     2024-01-01   \n",
       "303         707  Соколова Анастасия Викторовна     2024-02-01   \n",
       "\n",
       "    project_end_month  shipment_sum  \n",
       "0          2023-02-01      149080.0  \n",
       "1          2023-12-01      149080.0  \n",
       "2          2023-02-01      149100.0  \n",
       "3          2023-12-01      149100.0  \n",
       "4          2023-02-01      177595.0  \n",
       "..                ...           ...  \n",
       "299        2023-10-01       65700.0  \n",
       "300        2023-10-01       69190.0  \n",
       "301        2023-10-01       70230.0  \n",
       "302        2023-10-01       71710.0  \n",
       "303        2023-10-01      135860.0  \n",
       "\n",
       "[304 rows x 5 columns]"
      ]
     },
     "execution_count": 27,
     "metadata": {},
     "output_type": "execute_result"
    }
   ],
   "source": [
    "df_cleanest"
   ]
  },
  {
   "cell_type": "markdown",
   "id": "87323bee",
   "metadata": {},
   "source": [
    "### Шаг 3: Расчет коэффициентов пролонгации"
   ]
  },
  {
   "cell_type": "markdown",
   "id": "6bc50212",
   "metadata": {},
   "source": [
    "Используем DateOffset для удобной работы с датами (например, \"минус один месяц\")"
   ]
  },
  {
   "cell_type": "code",
   "execution_count": 28,
   "id": "115b9b08",
   "metadata": {},
   "outputs": [],
   "source": [
    "from pandas.tseries.offsets import DateOffset"
   ]
  },
  {
   "cell_type": "code",
   "execution_count": 29,
   "id": "4be763c2",
   "metadata": {},
   "outputs": [],
   "source": [
    "managers = df_cleanest['account_manager'].unique().tolist()\n",
    "all_managers_label = 'Весь отдел'\n",
    "managers_and_total = managers + [all_managers_label]"
   ]
  },
  {
   "cell_type": "markdown",
   "id": "e858356a",
   "metadata": {},
   "source": [
    "Создаем список дат для каждого месяца 2023 года, по которому будем строить отчет"
   ]
  },
  {
   "cell_type": "code",
   "execution_count": 30,
   "id": "c9cdd614",
   "metadata": {},
   "outputs": [],
   "source": [
    "report_months = pd.to_datetime([f'2023-{i}-01' for i in range(1, 13)])"
   ]
  },
  {
   "cell_type": "markdown",
   "id": "ec0cea9e",
   "metadata": {},
   "source": [
    "Инициализируем пустой список, куда будем складывать результаты расчетов"
   ]
  },
  {
   "cell_type": "code",
   "execution_count": 31,
   "id": "f5b85f59",
   "metadata": {},
   "outputs": [],
   "source": [
    "results = []"
   ]
  },
  {
   "cell_type": "markdown",
   "id": "8544a26a",
   "metadata": {},
   "source": [
    "Основной цикл:"
   ]
  },
  {
   "cell_type": "code",
   "execution_count": 32,
   "id": "2ad29611",
   "metadata": {},
   "outputs": [],
   "source": [
    "# Итерируемся по каждому менеджеру (и по всему отделу)\n",
    "for manager in managers_and_total:\n",
    "    \n",
    "    # Если текущее имя - 'Весь отдел', используем весь датафрейм. \n",
    "    # Иначе - фильтруем данные по конкретному менеджеру.\n",
    "    if manager == all_managers_label:\n",
    "        manager_df = df_cleanest\n",
    "    else:\n",
    "        manager_df = df_cleanest[df_cleanest['account_manager'] == manager]\n",
    "\n",
    "    # Инициализируем переменные для подсчета годовых итогов\n",
    "    total_k1_numerator, total_k1_denominator = 0, 0\n",
    "    total_k2_numerator, total_k2_denominator = 0, 0\n",
    "\n",
    "    # Теперь итерируемся по каждому месяцу 2023 года\n",
    "    for current_month in report_months:\n",
    "\n",
    "        # Расчет Коэффициента пролонгации на 1-й месяц\n",
    "        prev_month = current_month - DateOffset(months=1)\n",
    "\n",
    "        # ЗНАМЕНАТЕЛЬ: Находим проекты, завершившиеся в прошлом месяце, и сумму их отгрузки\n",
    "        # за тот же (прошлый) месяц.\n",
    "        k1_base_df = manager_df[\n",
    "            (manager_df['project_end_month'] == prev_month) &\n",
    "            (manager_df['shipment_month'] == prev_month)\n",
    "        ]\n",
    "        k1_denominator = k1_base_df['shipment_sum'].sum()\n",
    "\n",
    "        # ЧИСЛИТЕЛЬ: Для этих же проектов смотрим их отгрузку в ТЕКУЩЕМ месяце.\n",
    "        k1_prolonged_project_ids = k1_base_df['project_id'].unique()\n",
    "        k1_numerator = manager_df[\n",
    "            (manager_df['project_id'].isin(k1_prolonged_project_ids)) &\n",
    "            (manager_df['shipment_month'] == current_month)\n",
    "        ]['shipment_sum'].sum()\n",
    "\n",
    "        # Расчет Коэффициента пролонгации на 2-й месяц\n",
    "        month_minus_2 = current_month - DateOffset(months=2)\n",
    "\n",
    "        # ЗНАМЕНАТЕЛЬ:\n",
    "        # 1. Находим ID проектов, завершившихся 2 месяца назад.\n",
    "        ended_m2_ids = manager_df[manager_df['project_end_month'] == month_minus_2]['project_id'].unique()\n",
    "\n",
    "        # 2. Находим ID проектов из п.1, у которых БЫЛА отгрузка в прошлом месяце (т.е. они были пролонгированы на 1-й месяц).\n",
    "        prolonged_in_1st_month_ids = manager_df[\n",
    "            (manager_df['project_id'].isin(ended_m2_ids)) &\n",
    "            (manager_df['shipment_month'] == prev_month) &\n",
    "            (manager_df['shipment_sum'] > 0)\n",
    "        ]['project_id'].unique()\n",
    "\n",
    "        # 3. Находим ID проектов для нашей базы - те, что завершились 2 месяца назад и НЕ были пролонгированы на 1-й месяц.\n",
    "        k2_base_project_ids = np.setdiff1d(ended_m2_ids, prolonged_in_1st_month_ids)\n",
    "\n",
    "        # 4. Считаем сумму отгрузки для этих \"непролонгированных\" проектов за их последний месяц (т.е. 2 месяца назад).\n",
    "        k2_denominator = manager_df[\n",
    "            (manager_df['project_id'].isin(k2_base_project_ids)) &\n",
    "            (manager_df['shipment_month'] == month_minus_2)\n",
    "        ]['shipment_sum'].sum()\n",
    "\n",
    "        # ЧИСЛИТЕЛЬ: Для этих же \"непролонгированных\" проектов ищем отгрузку в ТЕКУЩЕМ месяце.\n",
    "        k2_numerator = manager_df[\n",
    "            (manager_df['project_id'].isin(k2_base_project_ids)) &\n",
    "            (manager_df['shipment_month'] == current_month)\n",
    "        ]['shipment_sum'].sum()\n",
    "\n",
    "        # Рассчитываем коэффициенты, избегая деления на ноль\n",
    "        k1 = k1_numerator / k1_denominator if k1_denominator > 0 else 0\n",
    "        k2 = k2_numerator / k2_denominator if k2_denominator > 0 else 0\n",
    "\n",
    "        # Сохраняем результат за месяц в наш список\n",
    "        results.append({\n",
    "            'Менеджер': manager,\n",
    "            'Метрика': 'Коэффициент 1',\n",
    "            'Месяц': current_month,\n",
    "            'Значение': k1\n",
    "        })\n",
    "        results.append({\n",
    "            'Менеджер': manager,\n",
    "            'Метрика': 'Коэффициент 2',\n",
    "            'Месяц': current_month,\n",
    "            'Значение': k2\n",
    "        })\n",
    "\n",
    "        # Добавляем месячные суммы к годовым\n",
    "        total_k1_numerator += k1_numerator\n",
    "        total_k1_denominator += k1_denominator\n",
    "        total_k2_numerator += k2_numerator\n",
    "        total_k2_denominator += k2_denominator\n",
    "    \n",
    "    # Рассчитываем годовые коэффициенты\n",
    "    annual_k1 = total_k1_numerator / total_k1_denominator if total_k1_denominator > 0 else 0\n",
    "    annual_k2 = total_k2_numerator / total_k2_denominator if total_k2_denominator > 0 else 0\n",
    "\n",
    "    # Сохраняем годовой результат\n",
    "    results.append({\n",
    "        'Менеджер': manager,\n",
    "        'Метрика': 'Коэффициент 1 (Год)',\n",
    "        'Месяц': pd.to_datetime('2023-12-31'), # для сортировки\n",
    "        'Значение': annual_k1\n",
    "    })\n",
    "    results.append({\n",
    "        'Менеджер': manager,\n",
    "        'Метрика': 'Коэффициент 2 (Год)',\n",
    "        'Месяц': pd.to_datetime('2023-12-31'), # для сортировки\n",
    "        'Значение': annual_k2\n",
    "    })"
   ]
  },
  {
   "cell_type": "markdown",
   "id": "dcabd897",
   "metadata": {},
   "source": [
    "Создаем DataFrame из списка с результатами"
   ]
  },
  {
   "cell_type": "code",
   "execution_count": 33,
   "id": "4acaea41",
   "metadata": {},
   "outputs": [],
   "source": [
    "results_df = pd.DataFrame(results)"
   ]
  },
  {
   "cell_type": "code",
   "execution_count": 34,
   "id": "1ce3b68b",
   "metadata": {},
   "outputs": [
    {
     "data": {
      "text/html": [
       "<div>\n",
       "<style scoped>\n",
       "    .dataframe tbody tr th:only-of-type {\n",
       "        vertical-align: middle;\n",
       "    }\n",
       "\n",
       "    .dataframe tbody tr th {\n",
       "        vertical-align: top;\n",
       "    }\n",
       "\n",
       "    .dataframe thead th {\n",
       "        text-align: right;\n",
       "    }\n",
       "</style>\n",
       "<table border=\"1\" class=\"dataframe\">\n",
       "  <thead>\n",
       "    <tr style=\"text-align: right;\">\n",
       "      <th></th>\n",
       "      <th>Менеджер</th>\n",
       "      <th>Метрика</th>\n",
       "      <th>Месяц</th>\n",
       "      <th>Значение</th>\n",
       "    </tr>\n",
       "  </thead>\n",
       "  <tbody>\n",
       "    <tr>\n",
       "      <th>0</th>\n",
       "      <td>Васильев Артем Александрович</td>\n",
       "      <td>Коэффициент 1</td>\n",
       "      <td>2023-01-01</td>\n",
       "      <td>2.403191</td>\n",
       "    </tr>\n",
       "    <tr>\n",
       "      <th>1</th>\n",
       "      <td>Васильев Артем Александрович</td>\n",
       "      <td>Коэффициент 2</td>\n",
       "      <td>2023-01-01</td>\n",
       "      <td>0.000000</td>\n",
       "    </tr>\n",
       "    <tr>\n",
       "      <th>2</th>\n",
       "      <td>Васильев Артем Александрович</td>\n",
       "      <td>Коэффициент 1</td>\n",
       "      <td>2023-02-01</td>\n",
       "      <td>0.000000</td>\n",
       "    </tr>\n",
       "    <tr>\n",
       "      <th>3</th>\n",
       "      <td>Васильев Артем Александрович</td>\n",
       "      <td>Коэффициент 2</td>\n",
       "      <td>2023-02-01</td>\n",
       "      <td>0.000000</td>\n",
       "    </tr>\n",
       "    <tr>\n",
       "      <th>4</th>\n",
       "      <td>Васильев Артем Александрович</td>\n",
       "      <td>Коэффициент 1</td>\n",
       "      <td>2023-03-01</td>\n",
       "      <td>1.754292</td>\n",
       "    </tr>\n",
       "    <tr>\n",
       "      <th>...</th>\n",
       "      <td>...</td>\n",
       "      <td>...</td>\n",
       "      <td>...</td>\n",
       "      <td>...</td>\n",
       "    </tr>\n",
       "    <tr>\n",
       "      <th>177</th>\n",
       "      <td>Весь отдел</td>\n",
       "      <td>Коэффициент 2</td>\n",
       "      <td>2023-11-01</td>\n",
       "      <td>0.000000</td>\n",
       "    </tr>\n",
       "    <tr>\n",
       "      <th>178</th>\n",
       "      <td>Весь отдел</td>\n",
       "      <td>Коэффициент 1</td>\n",
       "      <td>2023-12-01</td>\n",
       "      <td>2.000000</td>\n",
       "    </tr>\n",
       "    <tr>\n",
       "      <th>179</th>\n",
       "      <td>Весь отдел</td>\n",
       "      <td>Коэффициент 2</td>\n",
       "      <td>2023-12-01</td>\n",
       "      <td>0.000000</td>\n",
       "    </tr>\n",
       "    <tr>\n",
       "      <th>180</th>\n",
       "      <td>Весь отдел</td>\n",
       "      <td>Коэффициент 1 (Год)</td>\n",
       "      <td>2023-12-31</td>\n",
       "      <td>2.562930</td>\n",
       "    </tr>\n",
       "    <tr>\n",
       "      <th>181</th>\n",
       "      <td>Весь отдел</td>\n",
       "      <td>Коэффициент 2 (Год)</td>\n",
       "      <td>2023-12-31</td>\n",
       "      <td>0.000000</td>\n",
       "    </tr>\n",
       "  </tbody>\n",
       "</table>\n",
       "<p>182 rows × 4 columns</p>\n",
       "</div>"
      ],
      "text/plain": [
       "                         Менеджер              Метрика      Месяц  Значение\n",
       "0    Васильев Артем Александрович        Коэффициент 1 2023-01-01  2.403191\n",
       "1    Васильев Артем Александрович        Коэффициент 2 2023-01-01  0.000000\n",
       "2    Васильев Артем Александрович        Коэффициент 1 2023-02-01  0.000000\n",
       "3    Васильев Артем Александрович        Коэффициент 2 2023-02-01  0.000000\n",
       "4    Васильев Артем Александрович        Коэффициент 1 2023-03-01  1.754292\n",
       "..                            ...                  ...        ...       ...\n",
       "177                    Весь отдел        Коэффициент 2 2023-11-01  0.000000\n",
       "178                    Весь отдел        Коэффициент 1 2023-12-01  2.000000\n",
       "179                    Весь отдел        Коэффициент 2 2023-12-01  0.000000\n",
       "180                    Весь отдел  Коэффициент 1 (Год) 2023-12-31  2.562930\n",
       "181                    Весь отдел  Коэффициент 2 (Год) 2023-12-31  0.000000\n",
       "\n",
       "[182 rows x 4 columns]"
      ]
     },
     "execution_count": 34,
     "metadata": {},
     "output_type": "execute_result"
    }
   ],
   "source": [
    "results_df"
   ]
  },
  {
   "cell_type": "markdown",
   "id": "613d5d28",
   "metadata": {},
   "source": [
    "Создаем сводную pivot-таблицу. Индекс - менеджеры, колонки - месяцы, значения - коэффициенты"
   ]
  },
  {
   "cell_type": "code",
   "execution_count": 35,
   "id": "4cf76114",
   "metadata": {},
   "outputs": [],
   "source": [
    "report_pivot = results_df.pivot_table(\n",
    "    index='Менеджер', \n",
    "    columns=['Месяц', 'Метрика'], \n",
    "    values='Значение'\n",
    ")"
   ]
  },
  {
   "cell_type": "markdown",
   "id": "a2e62a30",
   "metadata": {},
   "source": [
    "Сохраняем в Excel"
   ]
  },
  {
   "cell_type": "code",
   "execution_count": 36,
   "id": "6e0e301c",
   "metadata": {},
   "outputs": [],
   "source": [
    "file_name = 'analytical_report.xlsx'\n",
    "with pd.ExcelWriter(file_name, engine='xlsxwriter') as writer:\n",
    "    report_pivot.to_excel(writer, sheet_name='Отчет по пролонгациям', merge_cells=True)\n",
    "\n",
    "    # Добавляем форматирование для наглядности\n",
    "    workbook  = writer.book\n",
    "    worksheet = writer.sheets['Отчет по пролонгациям']"
   ]
  }
 ],
 "metadata": {
  "kernelspec": {
   "display_name": "Python 3",
   "language": "python",
   "name": "python3"
  },
  "language_info": {
   "codemirror_mode": {
    "name": "ipython",
    "version": 3
   },
   "file_extension": ".py",
   "mimetype": "text/x-python",
   "name": "python",
   "nbconvert_exporter": "python",
   "pygments_lexer": "ipython3",
   "version": "3.13.2"
  }
 },
 "nbformat": 4,
 "nbformat_minor": 5
}
